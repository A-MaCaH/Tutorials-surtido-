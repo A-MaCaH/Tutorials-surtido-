{
  "nbformat": 4,
  "nbformat_minor": 0,
  "metadata": {
    "colab": {
      "provenance": []
    },
    "kernelspec": {
      "name": "python3",
      "display_name": "Python 3"
    },
    "language_info": {
      "name": "python"
    }
  },
  "cells": [
    {
      "cell_type": "markdown",
      "source": [
        "#Curso de Python. Temas 2\n",
        "EDA 1. Grupo 7\n",
        "\n",
        "Nombre:\n",
        "\n",
        "No. cuenta:\n",
        "\n",
        "Nota: Se debe entrega el .ipynb, no contará si se entrega la liga de colab."
      ],
      "metadata": {
        "id": "iDVfaU29ciso"
      }
    },
    {
      "cell_type": "markdown",
      "source": [
        "## Comprensión de lista"
      ],
      "metadata": {
        "id": "zx22xXJvFiTI"
      }
    },
    {
      "cell_type": "markdown",
      "source": [
        "La comprensión de listas es una característica poderosa y concisa de Python que te permite crear listas de forma rápida y elegante mediante la aplicación de una expresión a cada elemento de un iterable (como una lista, un rango, etc.) y recopilando los resultados en una nueva lista.\n",
        "\n",
        "La sintaxis básica de una comprensión de listas es la siguiente:\n",
        "\n",
        "\n",
        "\n",
        "```\n",
        "[expresion for elemento in iterable]\n",
        "```\n",
        "Donde:\n",
        "\n",
        "**expresion** es cualquier expresión válida de Python que queramos aplicar a cada elemento del iterable.\n",
        "\n",
        "**elemento** es una variable que representa cada elemento del iterable.\n",
        "\n",
        "**iterable** es cualquier objeto iterable en Python, como una lista, un rango, un diccionario, etc.\n",
        "\n",
        "\n",
        "\n",
        "\n"
      ],
      "metadata": {
        "id": "eggU8GNyf0QU"
      }
    },
    {
      "cell_type": "code",
      "source": [
        "nums = [1, 2, 3, 4, 5]\n",
        "nums"
      ],
      "metadata": {
        "id": "RztQP8sdgrA2"
      },
      "execution_count": null,
      "outputs": []
    },
    {
      "cell_type": "code",
      "source": [
        "# llenar nums con for\n",
        "nums = []\n",
        "for i in range(1,5+1,1):\n",
        "  nums.append(i)\n",
        "nums"
      ],
      "metadata": {
        "colab": {
          "base_uri": "https://localhost:8080/"
        },
        "id": "fGbHUp9XhBF4",
        "outputId": "65ed27a9-c7ea-40f7-88d8-54433b3d8980"
      },
      "execution_count": null,
      "outputs": [
        {
          "output_type": "execute_result",
          "data": {
            "text/plain": [
              "[1, 2, 3, 4, 5]"
            ]
          },
          "metadata": {},
          "execution_count": 2
        }
      ]
    },
    {
      "cell_type": "code",
      "source": [
        "nums = [i for i in range(1, 5+1, 1)]\n",
        "nums"
      ],
      "metadata": {
        "colab": {
          "base_uri": "https://localhost:8080/"
        },
        "id": "4GuBYhElhdSF",
        "outputId": "c25e09a7-34d2-49b9-93ce-f1272e984a16"
      },
      "execution_count": null,
      "outputs": [
        {
          "output_type": "execute_result",
          "data": {
            "text/plain": [
              "[1, 2, 3, 4, 5]"
            ]
          },
          "metadata": {},
          "execution_count": 3
        }
      ]
    },
    {
      "cell_type": "markdown",
      "source": [
        "Por ejemplo, considera la siguiente comprensión de lista que eleva al cuadrado cada elemento de una lista:"
      ],
      "metadata": {
        "id": "4xOunbTjgp-J"
      }
    },
    {
      "cell_type": "code",
      "source": [
        "nums = [1, 2, 3, 4, 5]\n",
        "squared_nums = [x**2 for x in nums]\n",
        "print(squared_nums)  # Output: [1, 4, 9, 16, 25]"
      ],
      "metadata": {
        "id": "v_cKEZSgggQ3"
      },
      "execution_count": null,
      "outputs": []
    },
    {
      "cell_type": "markdown",
      "source": [
        "Esto es equivalente a escribir un bucle for tradicional:"
      ],
      "metadata": {
        "id": "RG1T4ozXhsYt"
      }
    },
    {
      "cell_type": "code",
      "source": [
        "nums = [1, 2, 3, 4, 5]\n",
        "squared_nums = []\n",
        "for x in nums:\n",
        "    squared_nums.append(x**2)\n",
        "print(squared_nums)  # Output: [1, 4, 9, 16, 25]"
      ],
      "metadata": {
        "id": "JFhjaqSfhoiE"
      },
      "execution_count": null,
      "outputs": []
    },
    {
      "cell_type": "markdown",
      "source": [
        "La comprensión de listas es más concisa y generalmente más fácil de leer que el bucle for tradicional, especialmente para operaciones simples.\n",
        "\n",
        "Además de la forma básica, las comprensiones de lista pueden incluir también condiciones, lo que te permite filtrar los elementos del iterable que deseas incluir en la lista resultante. La sintaxis para esto es:\n",
        "\n",
        "\n",
        "```\n",
        "[expresion for elemento in iterable if condicion]\n",
        "```\n",
        "\n"
      ],
      "metadata": {
        "id": "eKGPfRwMjpXB"
      }
    },
    {
      "cell_type": "code",
      "source": [
        "nums = [1, 2, 3, 4, 5]\n",
        "even_squared_nums = [x**2 for x in nums if x % 2 == 0]\n",
        "print(even_squared_nums)  # Output: [4, 16]\n"
      ],
      "metadata": {
        "id": "32fcyWNQjzgS"
      },
      "execution_count": null,
      "outputs": []
    },
    {
      "cell_type": "markdown",
      "source": [
        "Esto creará una lista de los cuadrados de los números en nums que son pares.\n",
        "\n",
        "Las comprensiones de lista son una herramienta útil y poderosa en Python que te permite escribir código más legible y conciso, especialmente cuando estás trabajando con transformaciones simples de datos en listas."
      ],
      "metadata": {
        "id": "8YIg5RTBj-VI"
      }
    },
    {
      "cell_type": "markdown",
      "source": [
        "## Funciones lambda"
      ],
      "metadata": {
        "id": "Xz3aA1IuCgq5"
      }
    },
    {
      "cell_type": "markdown",
      "source": [
        "En Python, las funciones lambda son funciones anónimas o funciones sin nombre que se definen utilizando la palabra clave lambda. Estas funciones son útiles cuando necesitas una función rápida y sencilla sin tener que definirla completamente con la sintaxis habitual de def."
      ],
      "metadata": {
        "id": "pne5MNBF-SoS"
      }
    },
    {
      "cell_type": "markdown",
      "source": [
        "**Definición básica:** La sintaxis general de una función lambda es: lambda argumentos: expresión. Por ejemplo:\n"
      ],
      "metadata": {
        "id": "LtGwbxtY_Oez"
      }
    },
    {
      "cell_type": "code",
      "execution_count": null,
      "metadata": {
        "id": "fhaEqS94-OaZ"
      },
      "outputs": [],
      "source": [
        "# Función lambda para sumar dos números\n",
        "suma = lambda x, y: x + y\n",
        "print(suma(3, 5))  # Salida: 8"
      ]
    },
    {
      "cell_type": "markdown",
      "source": [
        "Usar con funciones integradas: Las funciones lambda se pueden usar con funciones integradas como map(), filter(), y reduce() para operaciones rápidas en secuencias de datos."
      ],
      "metadata": {
        "id": "dhbh3O-A_2T4"
      }
    },
    {
      "cell_type": "code",
      "source": [
        "# map() aplica una función a cada elemento de una secuencia y devuelve\n",
        "#una nueva secuencia con los resultados.\n",
        "# Por ejemplo, para duplicar cada elemento de una lista:\n",
        "lista = [1, 2, 3, 4, 5]\n",
        "duplicados = map(lambda x: x * 2, lista)\n",
        "print(list(duplicados))  # Salida: [2, 4, 6, 8, 10]\n",
        "\n",
        "# filter() filtra elementos de una secuencia según una condición determinada.\n",
        "# Por ejemplo, para filtrar los números pares de una lista:\n",
        "lista = [1, 2, 3, 4, 5, 6, 7, 8]\n",
        "pares = filter(lambda x: x % 2 == 0, lista)\n",
        "print(list(pares))  # Salida: [2, 4, 6, 8]\n",
        "\n",
        "\n",
        "# Con la siguiente linea queremos decir:\n",
        "# De la libreia Functools traeme reuce\n",
        "# Asi, podemos traer solo una parte de la libreria functools\n",
        "\n",
        "from functools import reduce\n",
        "\n",
        "# reduce() reduce una secuencia a un único valor aplicando una función de\n",
        "#reducción a los elementos de la secuencia de izquierda a derecha.\n",
        "# Por ejemplo, para sumar todos los elementos de una lista:\n",
        "lista = [1, 2, 3, 4, 5]\n",
        "suma = reduce(lambda x, y: x + y, lista)\n",
        "print(suma)  # Salida: 15\n"
      ],
      "metadata": {
        "id": "FQCPcc3G_uvN",
        "colab": {
          "base_uri": "https://localhost:8080/"
        },
        "outputId": "46f6c48b-425a-40d6-872a-036a4ac970f9"
      },
      "execution_count": null,
      "outputs": [
        {
          "output_type": "stream",
          "name": "stdout",
          "text": [
            "[2, 4, 6, 8, 10]\n",
            "[2, 4, 6, 8]\n",
            "15\n"
          ]
        }
      ]
    },
    {
      "cell_type": "markdown",
      "source": [
        "Funciones como argumentos: Las funciones lambda pueden pasarse como argumentos a otras funciones."
      ],
      "metadata": {
        "id": "I_BAzQdeArUB"
      }
    },
    {
      "cell_type": "code",
      "source": [
        "def operacion(func, x, y):\n",
        "    return func(x, y)\n",
        "\n",
        "print(operacion(lambda x, y: x + y, 3, 4))  # Salida: 7\n",
        "print(operacion(lambda x, y: x * y, 3, 4))  # Salida: 12"
      ],
      "metadata": {
        "id": "BHGuHnnwAs6h"
      },
      "execution_count": null,
      "outputs": []
    },
    {
      "cell_type": "markdown",
      "source": [
        "Ordenamiento personalizado: Las funciones lambda se pueden usar para especificar claves de ordenamiento personalizadas en funciones como sorted()"
      ],
      "metadata": {
        "id": "h5e-X-jaBv7a"
      }
    },
    {
      "cell_type": "code",
      "source": [
        "puntos = [(1, 2), (3, 1), (5, 3), (2, 2)]\n",
        "ordenados_primer = sorted(puntos)\n",
        "ordenados = sorted(puntos, key=lambda x: x[1])  # Ordenar por el segundo elemento de cada tupla\n",
        "print(ordenados_primer)\n",
        "print(ordenados)  # Salida: [(3, 1), (1, 2), (2, 2), (5, 3)]"
      ],
      "metadata": {
        "colab": {
          "base_uri": "https://localhost:8080/"
        },
        "id": "fA8z3TGjBvXo",
        "outputId": "dfc13c77-2c37-4504-e29f-61bb6b69a35f"
      },
      "execution_count": null,
      "outputs": [
        {
          "output_type": "stream",
          "name": "stdout",
          "text": [
            "[(1, 2), (2, 2), (3, 1), (5, 3)]\n",
            "[(3, 1), (1, 2), (2, 2), (5, 3)]\n"
          ]
        }
      ]
    },
    {
      "cell_type": "code",
      "source": [],
      "metadata": {
        "id": "tC8sy0SRCU-2"
      },
      "execution_count": null,
      "outputs": []
    },
    {
      "cell_type": "markdown",
      "source": [
        "## Yield en python"
      ],
      "metadata": {
        "id": "2E7uzdHmDkc-"
      }
    },
    {
      "cell_type": "markdown",
      "source": [
        "En Python, yield es una palabra clave que se utiliza en la definición de generadores. Un generador es una función que produce una secuencia de valores utilizando la palabra clave yield en lugar de return. Cuando se invoca un generador, devuelve un iterador que permite recorrer los valores producidos por la función, uno a la vez, de manera eficiente en términos de memoria."
      ],
      "metadata": {
        "id": "XXGpaCLsCmvv"
      }
    },
    {
      "cell_type": "code",
      "source": [
        "def fibonacci():\n",
        "    a, b = 0, 1\n",
        "    while True:\n",
        "        yield a\n",
        "        a, b = b, a + b\n",
        "\n",
        "fib = fibonacci()\n",
        "print(next(fib))  # Salida: 0\n",
        "print(next(fib))  # Salida: 1\n",
        "print(next(fib))  # Salida: 1\n",
        "print(next(fib))  # Salida: 2"
      ],
      "metadata": {
        "id": "jwzdVqkZDnqt"
      },
      "execution_count": null,
      "outputs": []
    },
    {
      "cell_type": "code",
      "source": [
        "def numeros_pares(n):\n",
        "    for i in range(n):\n",
        "        if i % 2 == 0:\n",
        "            yield i\n",
        "\n",
        "pares = numeros_pares(10)\n",
        "for num in pares:\n",
        "    print(num)  # Salida: 0, 2, 4, 6, 8"
      ],
      "metadata": {
        "id": "mfqgb7KBFZau"
      },
      "execution_count": null,
      "outputs": []
    },
    {
      "cell_type": "markdown",
      "source": [
        "## Zip y enumerate"
      ],
      "metadata": {
        "id": "wEHIQikQGywE"
      }
    },
    {
      "cell_type": "markdown",
      "source": [
        "zip: La función zip toma dos o más secuencias (como listas, tuplas, o cadenas) y las combina en una secuencia de tuplas donde el i-ésimo elemento de cada secuencia se empareja entre sí."
      ],
      "metadata": {
        "id": "iT5Bnf34FgwA"
      }
    },
    {
      "cell_type": "code",
      "source": [
        "# Ejemplo de zip\n",
        "lista1 = [1, 2, 3]\n",
        "lista2 = ['a', 'b', 'c']\n",
        "lista_combinada = zip(lista1, lista2)\n",
        "for item in lista_combinada:\n",
        "    print(item)\n",
        "# Salida:\n",
        "# (1, 'a')\n",
        "# (2, 'b')\n",
        "# (3, 'c')\n"
      ],
      "metadata": {
        "id": "7tVgWmcjGb_R"
      },
      "execution_count": null,
      "outputs": []
    },
    {
      "cell_type": "markdown",
      "source": [
        "enumerate: La función enumerate toma una secuencia (como una lista, tupla, o cadena) y devuelve un iterador que produce pares (indice, valor) donde indice es el índice de la secuencia y valor es el valor correspondiente en esa posición."
      ],
      "metadata": {
        "id": "Rm-Bot-uGoVq"
      }
    },
    {
      "cell_type": "code",
      "source": [
        "# Ejemplo de enumerate\n",
        "lista = ['a', 'b', 'c']\n",
        "for indice, valor in enumerate(lista):\n",
        "    print(indice, valor)\n",
        "# Salida:\n",
        "# 0 a\n",
        "# 1 b\n",
        "# 2 c\n"
      ],
      "metadata": {
        "id": "UsKdIQm3GnfN"
      },
      "execution_count": null,
      "outputs": []
    }
  ]
}