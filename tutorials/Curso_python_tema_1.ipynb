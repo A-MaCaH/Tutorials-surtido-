{
  "nbformat": 4,
  "nbformat_minor": 0,
  "metadata": {
    "colab": {
      "provenance": []
    },
    "kernelspec": {
      "name": "python3",
      "display_name": "Python 3"
    },
    "language_info": {
      "name": "python"
    }
  },
  "cells": [
    {
      "cell_type": "markdown",
      "source": [
        "# Curso de Python\n",
        "## EDA 1. Grupo 7\n",
        "\n",
        "\n",
        "\n",
        "**No. cuenta:** 321050881\n",
        "\n",
        "> Nota: Se debe entrega el .ipynb, no contará si se entrega la liga de colab."
      ],
      "metadata": {
        "id": "jFbMvixwa7PT"
      }
    },
    {
      "cell_type": "markdown",
      "source": [
        "##Hola mundo\n"
      ],
      "metadata": {
        "id": "uRFHRvgih9bm"
      }
    },
    {
      "cell_type": "markdown",
      "source": [
        "**Print:**  La función print() se utiliza en Python para mostrar información en la salida estándar, que suele ser la consola. Puedes pasarle uno o más argumentos separados por comas y print los mostrará en la salida, separados por un espacio por defecto. Por ejemplo:\n"
      ],
      "metadata": {
        "id": "amUSFtu8YRfY"
      }
    },
    {
      "cell_type": "code",
      "source": [
        "# Nuestro hola mundo en Python\n",
        "print(\"Hola Python\")"
      ],
      "metadata": {
        "id": "wr3_BigjlFUi",
        "colab": {
          "base_uri": "https://localhost:8080/"
        },
        "outputId": "2a3b4066-3c4f-4b84-8c20-15d140900672"
      },
      "execution_count": null,
      "outputs": [
        {
          "output_type": "stream",
          "name": "stdout",
          "text": [
            "Hola Python\n"
          ]
        }
      ]
    },
    {
      "cell_type": "markdown",
      "source": [
        "**Comentarios:** En Python, los comentarios son líneas que comienzan con los símbolos: #,  comillas simples o comillas dobles. Los comentarios son ignorados por el intérprete de Python y se utilizan para agregar explicaciones o notas en el código. Por ejemplo:"
      ],
      "metadata": {
        "id": "UN4bo4iLYthB"
      }
    },
    {
      "cell_type": "code",
      "source": [
        "# Esto es un comentario\n",
        "\n",
        "\"\"\"\n",
        "Este es un\n",
        "comentario\n",
        "en varias líneas\n",
        "\"\"\"\n",
        "\n",
        "'''\n",
        "Este también es un\n",
        "comentario\n",
        "en varias líneas\n",
        "'''"
      ],
      "metadata": {
        "id": "2FjY366tlS5o",
        "colab": {
          "base_uri": "https://localhost:8080/"
        },
        "outputId": "2e253342-659a-4f37-f92b-c90dc476896a"
      },
      "execution_count": null,
      "outputs": [
        {
          "output_type": "execute_result",
          "data": {
            "text/plain": [
              "'\\nEste también es un\\ncomentario\\nen varias líneas\\n'"
            ],
            "application/vnd.google.colaboratory.intrinsic+json": {
              "type": "string"
            }
          },
          "metadata": {},
          "execution_count": 6
        }
      ]
    },
    {
      "cell_type": "markdown",
      "source": [
        "**tipos de variables:** En Python, las variables pueden almacenar diferentes tipos de datos. Algunos de los tipos de datos más comunes incluyen:\n",
        "\n",
        "**int**: números enteros, por ejemplo, x = 5\n",
        "\n",
        "**float**: números decimales, por ejemplo, y = 3.14\n",
        "\n",
        "**str**: cadenas de texto, por ejemplo, nombre = \"Juan\"\n",
        "\n",
        "**bool**: valores booleanos, True o False, por ejemplo, activo = True\n",
        "\n",
        "**list**: listas ordenadas de elementos, por ejemplo, mi_lista =\n",
        "[1, 2, 3]\n",
        "\n",
        "**tuple**: tuplas ordenadas de elementos inmutables, por ejemplo, mi_tupla = (1, 2, 3)\n",
        "\n",
        "**Dict**: diccionarios de pares clave-valor, por ejemplo, mi_diccionario = {'nombre': 'Juan', 'edad': 30}\n",
        "\n",
        "Puedes usar la función type() para verificar el tipo de una variable en Python."
      ],
      "metadata": {
        "id": "IsdcRq3iZUUG"
      }
    },
    {
      "cell_type": "code",
      "execution_count": null,
      "metadata": {
        "colab": {
          "base_uri": "https://localhost:8080/"
        },
        "id": "UbU4u0SQdin7",
        "outputId": "cb82cd04-40f9-4bfc-df89-14b2f0cd3063"
      },
      "outputs": [
        {
          "output_type": "stream",
          "name": "stdout",
          "text": [
            "<class 'str'>\n",
            "<class 'int'>\n",
            "<class 'float'>\n",
            "<class 'complex'>\n",
            "<class 'bool'>\n",
            "Mi cadena de texto\n",
            "<class 'NoneType'>\n",
            "<class 'list'>\n",
            "<class 'tuple'>\n"
          ]
        }
      ],
      "source": [
        "# Cómo consultar el tipo de dato\n",
        "print(type(\"Soy un dato str\"))  # Tipo 'str'\n",
        "print(type(5))  # Tipo 'int'\n",
        "print(type(1.5))  # Tipo 'float'\n",
        "print(type(3 + 1j))  # Tipo 'complex'\n",
        "print(type(True))  # Tipo 'bool'\n",
        "print(type(print(\"Mi cadena de texto\")))  # Tipo 'NoneType'\n",
        "print(type([1,2,3,4,5]))  # Tipo 'lista'\n",
        "print(type((1,2,3,4,5)))  # Tipo 'tupla'"
      ]
    },
    {
      "cell_type": "markdown",
      "source": [
        "## Ejercicios \"Hola mundo\""
      ],
      "metadata": {
        "id": "QXFRfF34aAlW"
      }
    },
    {
      "cell_type": "markdown",
      "source": [
        "* Imprime tu nombre en la consola.\n",
        "* Imprime un mensaje de bienvenida"
      ],
      "metadata": {
        "id": "T-IKn95Ia2G9"
      }
    },
    {
      "cell_type": "code",
      "source": [],
      "metadata": {
        "id": "7S6Ql_a-agZA"
      },
      "execution_count": null,
      "outputs": []
    },
    {
      "cell_type": "markdown",
      "source": [
        "* Crea una variable edad y asígnale tu edad. Luego imprime la variable.\n",
        "* Crea una variable pi y asígnale el valor de pi (3.14159). Luego imprime la variable.\n",
        "* Crea una variable nombre y asígnale tu nombre. Luego imprime la variable."
      ],
      "metadata": {
        "id": "42qu1s1JbacY"
      }
    },
    {
      "cell_type": "code",
      "source": [],
      "metadata": {
        "id": "jcGAgH7Obo-Z"
      },
      "execution_count": null,
      "outputs": []
    },
    {
      "cell_type": "markdown",
      "source": [
        "## Variables\n"
      ],
      "metadata": {
        "id": "jBy5ldXoiy9v"
      }
    },
    {
      "cell_type": "markdown",
      "source": [
        "En Python, una **variable** es un contenedor para almacenar datos. Cuando creas una variable, le estás dando un nombre y asignándole un valor.\n",
        "\n",
        "En Python, no necesitas declarar explícitamente el tipo de una variable antes de usarla. Puedes simplemente asignar un valor a una variable y Python determinará automáticamente su tipo."
      ],
      "metadata": {
        "id": "uPB7ErctcTf9"
      }
    },
    {
      "cell_type": "markdown",
      "source": [
        "**Nota:** En Python, un string (cadena de texto) es una secuencia de caracteres encerrados entre comillas simples (') o dobles (\")"
      ],
      "metadata": {
        "id": "44TRWSu3djWo"
      }
    },
    {
      "cell_type": "code",
      "source": [
        "my_string_variable = \"My String variable\"\n",
        "print(my_string_variable)"
      ],
      "metadata": {
        "id": "eh_ZR3_ZlcDp",
        "colab": {
          "base_uri": "https://localhost:8080/"
        },
        "outputId": "c18d0ceb-bc35-409c-a77f-3058245bf07f"
      },
      "execution_count": null,
      "outputs": [
        {
          "output_type": "stream",
          "name": "stdout",
          "text": [
            "My String variable\n"
          ]
        }
      ]
    },
    {
      "cell_type": "markdown",
      "source": [
        "Puedes concatenar strings usando el operador +."
      ],
      "metadata": {
        "id": "EbB_BT2jfJU_"
      }
    },
    {
      "cell_type": "code",
      "source": [
        "string_variable = \"hola \"+\"¿Cómo \"+\"están?\"\n",
        "print(string_variable)"
      ],
      "metadata": {
        "colab": {
          "base_uri": "https://localhost:8080/"
        },
        "id": "WaQtB0CKfLji",
        "outputId": "776ad781-f383-431c-e083-ebc90e4c45be"
      },
      "execution_count": null,
      "outputs": [
        {
          "output_type": "stream",
          "name": "stdout",
          "text": [
            "hola ¿Cómo están?\n"
          ]
        }
      ]
    },
    {
      "cell_type": "markdown",
      "source": [
        "A partir de Python 3.6, puedes utilizar f-strings para interpolar valores dentro de strings de forma más legible y concisa. Por ejemplo:"
      ],
      "metadata": {
        "id": "t7kUJ7tHfsDm"
      }
    },
    {
      "cell_type": "code",
      "source": [
        "nombre = 'Juan'\n",
        "edad = 30\n",
        "mensaje = f\"Mi nombre es {nombre} y tengo {edad} años.\"\n",
        "mensaje"
      ],
      "metadata": {
        "colab": {
          "base_uri": "https://localhost:8080/"
        },
        "id": "oO-NrGTqf2AW",
        "outputId": "7396367c-640f-4f1a-c5e5-037d35086a27"
      },
      "execution_count": null,
      "outputs": [
        {
          "output_type": "execute_result",
          "data": {
            "text/plain": [
              "'Mi nombre es Juan y tengo 30 años.'"
            ],
            "application/vnd.google.colaboratory.intrinsic+json": {
              "type": "string"
            }
          },
          "metadata": {},
          "execution_count": 10
        }
      ]
    },
    {
      "cell_type": "markdown",
      "source": [
        "**Indexación y slicing**: Puedes acceder a caracteres individuales de un string utilizando su índice y puedes obtener subcadenas utilizando la técnica de slicing"
      ],
      "metadata": {
        "id": "fQ-3XLwegEjn"
      }
    },
    {
      "cell_type": "code",
      "source": [
        "mensaje = \"Hola, mundo!\"\n",
        "print(mensaje[0])      # Imprime 'H'\n",
        "print(mensaje[1:5])    # Imprime 'ola,'\n"
      ],
      "metadata": {
        "id": "ieFMA08KgJU3",
        "colab": {
          "base_uri": "https://localhost:8080/"
        },
        "outputId": "6069ec48-60f8-482f-9d54-74c096844403"
      },
      "execution_count": null,
      "outputs": [
        {
          "output_type": "stream",
          "name": "stdout",
          "text": [
            "H\n",
            "ola,\n"
          ]
        }
      ]
    },
    {
      "cell_type": "markdown",
      "source": [
        "**Nota:** Los strings en Python son inmutables, lo que significa que una vez que se crean, no pueden ser modificados. Puedes crear nuevos strings a partir de otros, pero no puedes modificar un string existente."
      ],
      "metadata": {
        "id": "xYPP5aJ2gSbv"
      }
    },
    {
      "cell_type": "code",
      "source": [
        "mensaje = \"Hola\"\n",
        "# Esto generará un error, ya que los strings no se pueden modificar\n",
        "# mensaje[0] = 'h'"
      ],
      "metadata": {
        "id": "Nm1cMcpsgq4R"
      },
      "execution_count": null,
      "outputs": []
    },
    {
      "cell_type": "markdown",
      "source": [
        "Algunas funciones de los string en python"
      ],
      "metadata": {
        "id": "gfzgqvBFhkfl"
      }
    },
    {
      "cell_type": "code",
      "source": [
        "mensaje = \"Hola, mundo!\"\n",
        "print(len(mensaje))  # Output: 12\n",
        "\n",
        "print(mensaje.lower())  # Output: hola, mundo!\n",
        "\n",
        "print(mensaje.upper())  # Output: HOLA, MUNDO!\n",
        "\n",
        "\"\"\"Esta función convierte el primer carácter de un string a mayúscula y el\n",
        "resto a minúsculas.\"\"\"\n",
        "print(mensaje.capitalize())  # Output: Hola, mundo!\n",
        "\n",
        "\"\"\"Esta función elimina los espacios en blanco (u otro carácter especificado)\n",
        " del principio y del final de un string\"\"\"\n",
        "\n",
        "mensaje = \"   Hola, mundo!   \"\n",
        "print(mensaje.strip())  # Output: Hola, mundo!\n",
        "\n",
        "mensaje = \"Hola, mundo!\"\n",
        "palabras = mensaje.split(\", \")\n",
        "print(palabras)  # Output: ['Hola', 'mundo!']\n",
        "\n",
        "palabras = ['Hola', 'mundo!']\n",
        "mensaje = \", \".join(palabras)\n",
        "print(mensaje)  # Output: Hola, mundo!\n",
        "\n",
        "mensaje = mensaje.replace(\"Hola,\", \"Buenas tardes,\")\n",
        "print(mensaje)  # Output: Buenas tardes, mundo!\n",
        "\n"
      ],
      "metadata": {
        "colab": {
          "base_uri": "https://localhost:8080/"
        },
        "id": "xt1KZRSqhqkU",
        "outputId": "cfa7509a-84c7-43bb-d200-0a9c51f1d8f9"
      },
      "execution_count": null,
      "outputs": [
        {
          "output_type": "stream",
          "name": "stdout",
          "text": [
            "12\n",
            "hola, mundo!\n",
            "HOLA, MUNDO!\n",
            "Hola, mundo!\n",
            "Hola, mundo!\n",
            "['Hola', 'mundo!']\n",
            "Hola, mundo!\n",
            "Buenas tardes, mundo!\n"
          ]
        }
      ]
    },
    {
      "cell_type": "code",
      "source": [
        "my_int_variable = 5\n",
        "print(my_int_variable)"
      ],
      "metadata": {
        "id": "Ea1oMvDLmSha",
        "colab": {
          "base_uri": "https://localhost:8080/"
        },
        "outputId": "9209f823-8927-4993-abd3-c0f32e628a04"
      },
      "execution_count": null,
      "outputs": [
        {
          "output_type": "stream",
          "name": "stdout",
          "text": [
            "5\n"
          ]
        }
      ]
    },
    {
      "cell_type": "code",
      "source": [
        "my_int_to_str_variable = str(my_int_variable)\n",
        "print(my_int_to_str_variable)\n",
        "print(type(my_int_to_str_variable))"
      ],
      "metadata": {
        "id": "30H4Vk0vmSUs",
        "colab": {
          "base_uri": "https://localhost:8080/"
        },
        "outputId": "a7c8191d-17dd-4894-cfcb-3120a478c660"
      },
      "execution_count": null,
      "outputs": [
        {
          "output_type": "stream",
          "name": "stdout",
          "text": [
            "5\n",
            "<class 'str'>\n"
          ]
        }
      ]
    },
    {
      "cell_type": "code",
      "source": [
        "my_bool_variable = False\n",
        "print(my_bool_variable)"
      ],
      "metadata": {
        "id": "hN5mTnSOmpGh",
        "colab": {
          "base_uri": "https://localhost:8080/"
        },
        "outputId": "51c20c6e-af7c-4f0f-ad9e-2ba1d84ad4d8"
      },
      "execution_count": null,
      "outputs": [
        {
          "output_type": "stream",
          "name": "stdout",
          "text": [
            "False\n"
          ]
        }
      ]
    },
    {
      "cell_type": "code",
      "source": [
        "# Concatenación de variables en un print\n",
        "print(\"hola clase, estan dormidos\", my_string_variable, my_int_to_str_variable, my_bool_variable)"
      ],
      "metadata": {
        "colab": {
          "base_uri": "https://localhost:8080/"
        },
        "id": "u4PCfOUBmumP",
        "outputId": "deadeb4c-cdbc-48f9-eed4-5ed45f2921e7"
      },
      "execution_count": null,
      "outputs": [
        {
          "output_type": "stream",
          "name": "stdout",
          "text": [
            "hola clase, estan dormidos My String variable 5 False\n"
          ]
        }
      ]
    },
    {
      "cell_type": "code",
      "source": [
        "# tamaño de la variable string\n",
        "print(len(my_string_variable))"
      ],
      "metadata": {
        "colab": {
          "base_uri": "https://localhost:8080/"
        },
        "id": "6UmgPNDHnGwm",
        "outputId": "6937ea1f-8c98-4b4f-f3c5-6b18af260c96"
      },
      "execution_count": null,
      "outputs": [
        {
          "output_type": "stream",
          "name": "stdout",
          "text": [
            "18\n"
          ]
        }
      ]
    },
    {
      "cell_type": "code",
      "source": [
        "# Variables en una sola línea.\n",
        "name, surname, alias, age = \"Brais\", \"Moure\", 'MoureDev', 35\n",
        "print(\"Me llamo:\", name, surname, \". Mi edad es:\",\n",
        "      age, \". Y mi alias es:\", alias)"
      ],
      "metadata": {
        "colab": {
          "base_uri": "https://localhost:8080/"
        },
        "id": "ADxSTew7nPwB",
        "outputId": "cf7d3d5b-7566-44b9-919b-5019fd6f7f33"
      },
      "execution_count": null,
      "outputs": [
        {
          "output_type": "stream",
          "name": "stdout",
          "text": [
            "Me llamo: Brais Moure . Mi edad es: 35 . Y mi alias es: MoureDev\n"
          ]
        }
      ]
    },
    {
      "cell_type": "code",
      "source": [
        "# Inputs\n",
        "name = input('¿Cuál es tu nombre? ')\n",
        "age = input('¿Cuántos años tienes? ')\n",
        "print(name)\n",
        "print(age)"
      ],
      "metadata": {
        "id": "l367nFkYnZB9",
        "outputId": "230bd4eb-ad7b-44b6-bff1-00b64928e0a0",
        "colab": {
          "base_uri": "https://localhost:8080/"
        }
      },
      "execution_count": null,
      "outputs": [
        {
          "name": "stdout",
          "output_type": "stream",
          "text": [
            "¿Cuál es tu nombre? Panchito\n"
          ]
        }
      ]
    },
    {
      "cell_type": "code",
      "source": [
        "# Cambiamos su tipo\n",
        "name = 35\n",
        "age = \"Brais\"\n",
        "print(name)\n",
        "print(age)"
      ],
      "metadata": {
        "id": "5ZbMU86tnfCn"
      },
      "execution_count": null,
      "outputs": []
    },
    {
      "cell_type": "code",
      "source": [
        "address: str = \"Mi dirección\"\n",
        "address = True\n",
        "address = 5\n",
        "address = 1.2\n",
        "print(type(address))"
      ],
      "metadata": {
        "id": "xi6EpF_BirT1"
      },
      "execution_count": null,
      "outputs": []
    },
    {
      "cell_type": "markdown",
      "source": [
        "## Ejercicios con variables"
      ],
      "metadata": {
        "id": "GZ19LfK5bv4L"
      }
    },
    {
      "cell_type": "markdown",
      "source": [
        "1. Escribe un programa que determine si un número ingresado por el usuario es par o impar y agrega comentarios en el código explicando cada paso.\n",
        "2. Calculadora de edad: Escribe un programa que solicite al usuario su nombre y año de nacimiento, y luego calcule su edad y la imprima en la consola su nombre y suedad.\n",
        "3. Pon en una variable el string \"Mi película favorita es:\" input(pelicula_favorita). Luego quita la parte \"Mi\" y remplazála por \"Tu película favorita debería de ser\"\n"
      ],
      "metadata": {
        "id": "Tyct4MgVj5bD"
      }
    },
    {
      "cell_type": "code",
      "source": [],
      "metadata": {
        "id": "X2cG_2FWjXq6"
      },
      "execution_count": null,
      "outputs": []
    },
    {
      "cell_type": "markdown",
      "source": [
        "## Operadores Aritméticos"
      ],
      "metadata": {
        "id": "kLG0zWdij6a1"
      }
    },
    {
      "cell_type": "markdown",
      "source": [
        "En Python, los operadores son símbolos especiales que realizan operaciones en valores y variables. Aquí tienes una explicación de los diferentes tipos de operadores en Python:\n",
        "\n",
        "**Operadores aritméticos:** Estos operadores se utilizan para realizar operaciones matemáticas básicas.\n",
        "\n",
        "* Suma (+): Suma dos valores.\n",
        "\n",
        "* Resta (-): Resta el segundo valor del primero.\n",
        "\n",
        "* Multiplicación (*): Multiplica dos valores.\n",
        "\n",
        "* División (/): Divide el primer valor por el segundo.\n",
        "\n",
        "* División entera (//): Divide el primer valor por el segundo y devuelve el resultado como un número entero.\n",
        "\n",
        "* Módulo (%): Devuelve el resto de la división del primer valor\n",
        "por el segundo.\n",
        "\n",
        "* Exponente (**): Eleva el primer valor a la potencia del segundo.\n",
        "\n",
        "**Operadores de asignación**: Estos operadores se utilizan para asignar valores a variables.\n",
        "\n",
        "\n",
        "* Asignación (=): Asigna el valor de la expresión a la variable.\n",
        "\n",
        "* Asignación con suma (+=): Suma el valor de la expresión a la variable y asigna el resultado a la variable.\n",
        "\n",
        "* Asignación con resta (-=): Resta el valor de la expresión de la variable y asigna el resultado a la variable.\n",
        "\n",
        "* Asignación con multiplicación (*=): Multiplica la variable por el valor de la expresión y asigna el resultado a la variable.\n",
        "\n",
        "* Asignación con división (/=): Divide la variable por el valor de la expresión y asigna el resultado a la variable.\n",
        "\n",
        "**Operadores de comparación:** Estos operadores se utilizan para comparar valores y devolver un resultado booleano (True o False).\n",
        "\n",
        "* Igualdad (==): Devuelve True si los dos valores son iguales.\n",
        "\n",
        "* No igualdad (!=): Devuelve True si los dos valores no son iguales.\n",
        "* Mayor que (>): Devuelve True si el primer valor es mayor que el segundo.\n",
        "* Menor que (<): Devuelve True si el primer valor es menor que el segundo.\n",
        "* Mayor o igual que (>=): Devuelve True si el primer valor es mayor o igual que el segundo.\n",
        "* Menor o igual que (<=): Devuelve True si el primer valor es menor o igual que el segundo.\n",
        "\n",
        "**Operadores lógicos:** Estos operadores se utilizan para combinar expresiones booleanas y devolver un resultado booleano.\n",
        "\n",
        "* AND (and): Devuelve True si ambos operandos son True.\n",
        "* OR (or): Devuelve True si al menos uno de los operandos es True.\n",
        "* NOT (not): Devuelve True si el operando es False, y viceversa.\n",
        "\n",
        "**Operadores de pertenencia:** Estos operadores se utilizan para comprobar si un valor está presente en una secuencia.\n",
        "\n",
        "* Pertenencia (in): Devuelve True si el valor está presente en la secuencia.\n",
        "* No pertenencia (not in): Devuelve True si el valor no está presente en la secuencia.\n",
        "\n",
        "**Operadores de identidad:** Estos operadores se utilizan para comprobar si dos variables se refieren al mismo objeto en memoria.\n",
        "\n",
        "* Identidad (is): Devuelve True si ambas variables se refieren al mismo objeto.\n",
        "* No identidad (is not): Devuelve True si ambas variables no se refieren al mismo objeto."
      ],
      "metadata": {
        "id": "zttTkGVUmirI"
      }
    },
    {
      "cell_type": "code",
      "source": [
        "# Operaciones con enteros\n",
        "print(3 + 4)\n",
        "print(3 - 4)\n",
        "print(3 * 4)\n",
        "print(3 / 4)\n",
        "print(10 % 3)\n",
        "print(10 // 3)\n",
        "print(2 ** 3)\n",
        "print(2 ** 3 + 3 - 7 / 1 // 4)"
      ],
      "metadata": {
        "id": "qmD-bCfgnwgE"
      },
      "execution_count": null,
      "outputs": []
    },
    {
      "cell_type": "code",
      "source": [
        "a = \"Hola\"\n",
        "a[0]"
      ],
      "metadata": {
        "id": "lFXIoCECyCFt"
      },
      "execution_count": null,
      "outputs": []
    },
    {
      "cell_type": "code",
      "source": [
        "# Operaciones con cadenas de texto\n",
        "print(\"Hola \" + \"Python \" + \"¿Qué tal?\")\n",
        "print(\"Hola \" + str(5))\n"
      ],
      "metadata": {
        "id": "g2hf40GeoiMT"
      },
      "execution_count": null,
      "outputs": []
    },
    {
      "cell_type": "code",
      "source": [
        "# Operaciones mixtas\n",
        "print(\"Hola \" * 5)\n",
        "print(\"Hola \" * (2 ** 3))"
      ],
      "metadata": {
        "id": "jnww3LOeomKZ"
      },
      "execution_count": null,
      "outputs": []
    },
    {
      "cell_type": "code",
      "source": [
        "my_float = 2.5 * 2\n",
        "print(\"Hola \" * int(my_float))"
      ],
      "metadata": {
        "id": "io8uVRQaotA0"
      },
      "execution_count": null,
      "outputs": []
    },
    {
      "cell_type": "code",
      "source": [
        "### Operadores Comparativos ###\n",
        "\n",
        "# Operaciones con enteros\n",
        "print(3 > 4)\n",
        "print(3 < 4)\n",
        "print(3 >= 4)\n",
        "print(4 <= 4)\n",
        "print(3 == 4)\n",
        "print(3 != 4)"
      ],
      "metadata": {
        "id": "DbNxebD0o0Bg"
      },
      "execution_count": null,
      "outputs": []
    },
    {
      "cell_type": "code",
      "source": [
        "# Operaciones con cadenas de texto\n",
        "print(\"Hola\" > \"Python\")\n",
        "print(\"Hola\" < \"Python\")\n",
        "print(\"aaaa\" >= \"abaa\")  # Ordenación alfabética por ASCII\n",
        "print(len(\"aaaa\") >= len(\"abaa\"))  # Cuenta caracteres\n",
        "print(\"Hola\" <= \"Python\")\n",
        "print(\"Hola\" == \"Hola\")\n",
        "print(\"Hola\" != \"Python\")\n"
      ],
      "metadata": {
        "id": "mdgyFlh0o6Hg"
      },
      "execution_count": null,
      "outputs": []
    },
    {
      "cell_type": "code",
      "source": [
        "### Operadores Lógicos ###\n",
        "\n",
        "print(3 > 4 and \"Hola\" > \"Python\")\n",
        "print(3 > 4 or \"Hola\" > \"Python\")\n",
        "print(3 < 4 and \"Hola\" < \"Python\")\n",
        "print(3 < 4 or \"Hola\" > \"Python\")\n",
        "print(3 < 4 or (\"Hola\" > \"Python\" and 4 == 4))\n",
        "1. print(not (3 > 4))"
      ],
      "metadata": {
        "id": "JBYBAbrjj6AR"
      },
      "execution_count": null,
      "outputs": []
    },
    {
      "cell_type": "markdown",
      "source": [
        "## Ejercicios de operadores"
      ],
      "metadata": {
        "id": "VBij3IxMoJK0"
      }
    },
    {
      "cell_type": "markdown",
      "source": [
        "1. Calculadora de edad: Escribe un programa que solicite al usuario su nombre y año de nacimiento, y luego calcule su edad y la imprima en la consola.\n",
        "\n",
        "2. Calculadora de IMC: Escribe un programa que solicite al usuario su peso en kilogramos y su altura en metros, y luego calcule su índice de masa corporal (IMC) utilizando la fórmula IMC = peso / (altura^2), y lo imprima en la consola.\n",
        "\n",
        "3. Conversor de temperatura: Escribe un programa que solicite al usuario una temperatura en grados Celsius, y luego convierta esta temperatura a grados Fahrenheit utilizando la fórmula Fahrenheit = (Celsius * 9/5) + 32, y la imprima en la consola.\n",
        "\n",
        "4. Calculadora de áreas: Escribe un programa que calcule y muestre en pantalla el área de un círculo y de un cuadrado. Pídele al usuario el radio del círculo y la longitud de un lado del cuadrado.\n",
        "\n",
        "5. Calculadora de promedio: Escribe un programa que solicite al usuario tres calificaciones (números enteros o flotantes) y calcule su promedio. Imprime el promedio en la consola."
      ],
      "metadata": {
        "id": "BpjeBpwqow5G"
      }
    },
    {
      "cell_type": "code",
      "source": [],
      "metadata": {
        "id": "ftkK0zk9oIb_"
      },
      "execution_count": null,
      "outputs": []
    },
    {
      "cell_type": "markdown",
      "source": [
        "6. Verificador de año bisiesto: Escribe un programa que solicite al usuario un año y determine si es bisiesto o no. Un año es bisiesto si es divisible entre 4 pero no entre 100, o si es divisible entre 400.\n",
        "\n",
        "7. Calculadora de pago por horas trabajadas: Escribe un programa que solicite al usuario el número de horas trabajadas y la tasa de pago por hora, y luego calcule el salario bruto. Si el número de horas supera las 40, el salario debe calcularse como tiempo y medio (1.5 veces la tasa de pago por hora) para las horas extra."
      ],
      "metadata": {
        "id": "bfcXxoj8pCsF"
      }
    },
    {
      "cell_type": "code",
      "source": [],
      "metadata": {
        "id": "x3hNlfozpg4A"
      },
      "execution_count": null,
      "outputs": []
    },
    {
      "cell_type": "markdown",
      "source": [
        "## Listas"
      ],
      "metadata": {
        "id": "_1GvxqkNp09Z"
      }
    },
    {
      "cell_type": "markdown",
      "source": [
        " En Python, una lista es una estructura de datos que puede contener una colección ordenada de elementos.\n",
        "\n",
        " Una lista se puede considerar como un tipo de arreglo dinámico. A diferencia de algunos lenguajes de programación donde los arreglos tienen un tamaño fijo que se establece al crearlos, las listas en Python son estructuras de datos dinámicas que pueden cambiar de tamaño durante la ejecución del programa."
      ],
      "metadata": {
        "id": "y7FoIomDp8tq"
      }
    },
    {
      "cell_type": "code",
      "source": [
        "# Definición\n",
        "\n",
        "my_list = list()\n",
        "my_other_list = []\n",
        "print(len(my_list))"
      ],
      "metadata": {
        "id": "iHrgc3I7tEtY"
      },
      "execution_count": null,
      "outputs": []
    },
    {
      "cell_type": "code",
      "source": [
        "my_list = [35, 24, 62, 52, 30, 30, 17]\n",
        "\n",
        "print(my_list)\n",
        "print(len(my_list))"
      ],
      "metadata": {
        "id": "BVLt_X7_tPWo"
      },
      "execution_count": null,
      "outputs": []
    },
    {
      "cell_type": "code",
      "source": [
        "my_other_list = [35, 1.77, \"Brais\", \"Moure\"]\n",
        "\n",
        "print(type(my_other_list[0]))\n",
        "print(type(my_other_list))"
      ],
      "metadata": {
        "id": "Qe6udUwNtT2-"
      },
      "execution_count": null,
      "outputs": []
    },
    {
      "cell_type": "code",
      "source": [
        "# Acceso a elementos y búsqueda\n",
        "\n",
        "print(my_other_list[0])\n",
        "print(my_other_list[1])\n",
        "print(my_other_list[-1])\n",
        "print(my_other_list[-4])\n",
        "print(my_list.count(30))"
      ],
      "metadata": {
        "id": "t4tI5hl2tddN"
      },
      "execution_count": null,
      "outputs": []
    },
    {
      "cell_type": "code",
      "source": [
        "print(my_other_list.index(\"Brais\"))"
      ],
      "metadata": {
        "id": "IVtnGJB_tjhD"
      },
      "execution_count": null,
      "outputs": []
    },
    {
      "cell_type": "code",
      "source": [
        "age, height, name, surname = my_other_list\n",
        "print(name)"
      ],
      "metadata": {
        "id": "dUMu5THEto7e"
      },
      "execution_count": null,
      "outputs": []
    },
    {
      "cell_type": "code",
      "source": [
        "name, height, age, surname = my_other_list[2], my_other_list[1], my_other_list[0], my_other_list[3]\n",
        "print(age)"
      ],
      "metadata": {
        "id": "QGaBvnBGtyKd"
      },
      "execution_count": null,
      "outputs": []
    },
    {
      "cell_type": "code",
      "source": [
        "# Concatenación\n",
        "print(my_list + my_other_list)"
      ],
      "metadata": {
        "id": "xFoZECiKt5JW"
      },
      "execution_count": null,
      "outputs": []
    },
    {
      "cell_type": "code",
      "source": [
        "# Creación, inserción, actualización y eliminación\n",
        "\n",
        "my_other_list.append(\"MoureDev\")\n",
        "print(my_other_list)\n",
        "\n",
        "my_other_list.insert(1, \"Rojo\")\n",
        "print(my_other_list)\n",
        "\n",
        "my_other_list[1] = \"Azul\"\n",
        "print(my_other_list)\n",
        "\n",
        "my_other_list.remove(\"Azul\")\n",
        "print(my_other_list)\n",
        "\n",
        "my_list.remove(30)\n",
        "\n",
        "print(my_list)\n",
        "print(my_list.pop())\n",
        "print(my_list)\n",
        "\n",
        "my_pop_element = my_list.pop(2)\n",
        "print(my_pop_element)\n",
        "print(my_list)"
      ],
      "metadata": {
        "id": "aphBvk9Rundd"
      },
      "execution_count": null,
      "outputs": []
    },
    {
      "cell_type": "code",
      "source": [
        "del my_list[2]\n",
        "print(my_list)"
      ],
      "metadata": {
        "id": "b8dEQicivAhK"
      },
      "execution_count": null,
      "outputs": []
    },
    {
      "cell_type": "code",
      "source": [
        "# Operaciones con listas\n",
        "\n",
        "my_new_list = my_list.copy()\n",
        "\n",
        "my_list.clear()\n",
        "print(my_list)\n",
        "print(my_new_list)\n",
        "\n",
        "my_new_list.reverse()\n",
        "print(my_new_list)\n",
        "\n",
        "my_new_list.sort()\n",
        "print(my_new_list)"
      ],
      "metadata": {
        "id": "oTLnA0VevMgI"
      },
      "execution_count": null,
      "outputs": []
    },
    {
      "cell_type": "code",
      "source": [
        "# Sublistas\n",
        "my_new_list = [0,2,3,4,6,'hola']\n",
        "print(my_new_list[1:4])"
      ],
      "metadata": {
        "id": "q1wXOhaQvRNb"
      },
      "execution_count": null,
      "outputs": []
    },
    {
      "cell_type": "code",
      "source": [
        "# Cambio de tipo\n",
        "\n",
        "my_list = \"Hola Python\"\n",
        "print(my_list)\n",
        "print(type(my_list))"
      ],
      "metadata": {
        "id": "WWdk9hX2kTxl"
      },
      "execution_count": null,
      "outputs": []
    },
    {
      "cell_type": "markdown",
      "source": [
        "## Ejercicios con python"
      ],
      "metadata": {
        "id": "9wXC-6lZqe-l"
      }
    },
    {
      "cell_type": "markdown",
      "source": [
        "1. Promedio de una lista: Escribe un programa que calcule el promedio de los elementos en una lista dada.\n",
        "\n",
        "2. Mayor y menor en una lista: Escribe un programa que encuentre el elemento más grande y el elemento más pequeño en una lista dada.\n",
        "\n",
        "3. Duplicar elementos: Escribe un programa que duplique cada elemento en una lista dada y genere una nueva lista con los elementos duplicados.\n",
        "\n",
        "4. Inversión de lista: Escribe un programa que invierta el orden de los elementos en una lista dada.\n",
        "\n",
        "5. Eliminar duplicados: Escribe un programa que elimine los elementos duplicados de una lista dada y genere una nueva lista sin duplicados.\n",
        "\n",
        "6. Filtrar lista: Escribe un programa que filtre una lista de números para incluir solo los números pares.\n",
        "\n",
        "7. Combinar listas: Escribe un programa que combine dos listas dadas en una sola lista, alternando los elementos de ambas listas.\n",
        "\n",
        "8. Contar ocurrencias: Escribe un programa que cuente el número de ocurrencias de cada elemento en una lista dada y genere un diccionario que muestre el elemento y su conteo.\n",
        "\n",
        "9. Rotación de lista: Escribe un programa que rote los elementos de una lista hacia la izquierda o hacia la derecha según el número de posiciones especificado.\n",
        "\n",
        "10. Ordenar lista de strings por longitud: Escribe un programa que ordene una lista de strings en función de la longitud de cada string, de menor a mayor."
      ],
      "metadata": {
        "id": "tmCLaAOTqt1e"
      }
    },
    {
      "cell_type": "code",
      "source": [],
      "metadata": {
        "id": "nMunBLE5qmR6"
      },
      "execution_count": null,
      "outputs": []
    },
    {
      "cell_type": "markdown",
      "source": [
        "## Tuplas"
      ],
      "metadata": {
        "id": "J6GeWbQnvW1e"
      }
    },
    {
      "cell_type": "markdown",
      "source": [
        "En Python, una tupla es una estructura de datos similar a una lista, pero con una diferencia fundamental: las tuplas son inmutables, lo que significa que una vez creadas, no se pueden modificar."
      ],
      "metadata": {
        "id": "CaTrH0_OrogJ"
      }
    },
    {
      "cell_type": "code",
      "source": [
        "mi_tupla = (1, 2, 3)\n",
        "mi_tupla[0] = 4  # Esto generará un error TypeError: 'tuple' object does not support item assignment"
      ],
      "metadata": {
        "id": "2T0LIP0NrnyS"
      },
      "execution_count": null,
      "outputs": []
    },
    {
      "cell_type": "code",
      "source": [
        "### Tuples ###\n",
        "\n",
        "# Definición\n",
        "\n",
        "my_tuple = tuple()\n",
        "my_other_tuple = ()\n",
        "\n",
        "my_tuple = (35, 1.77, \"Brais\", \"Moure\", \"Brais\")\n",
        "my_other_tuple = (35, 60, 30)\n",
        "\n",
        "print(my_tuple)\n",
        "print(type(my_tuple))\n",
        "\n",
        "# Acceso a elementos y búsqueda\n",
        "\n",
        "print(my_tuple[0])\n",
        "print(my_tuple[-1])\n",
        "# print(my_tuple[4]) IndexError\n",
        "# print(my_tuple[-6]) IndexError\n",
        "\n",
        "print(my_tuple.count(\"Brais\"))\n",
        "print(my_tuple.index(\"Moure\"))\n",
        "print(my_tuple.index(\"Brais\"))\n",
        "\n",
        "# my_tuple[1] = 1.80 'tuple' object does not support item assignment\n",
        "\n",
        "# Concatenación\n",
        "\n",
        "my_sum_tuple = my_tuple + my_other_tuple\n",
        "print(my_sum_tuple)\n",
        "\n",
        "# Subtuplas\n",
        "\n",
        "print(my_sum_tuple[3:6])\n",
        "\n",
        "# Tupla mutable con conversión a lista\n",
        "\n",
        "my_tuple = list(my_tuple)\n",
        "print(type(my_tuple))\n",
        "\n",
        "my_tuple[4] = \"MoureDev\"\n",
        "my_tuple.insert(1, \"Azul\")\n",
        "my_tuple = tuple(my_tuple)\n",
        "print(my_tuple)\n",
        "print(type(my_tuple))\n",
        "\n",
        "# Eliminación\n",
        "\n",
        "# del my_tuple[2] TypeError: 'tuple' object doesn't support item deletion\n",
        "\n",
        "del my_tuple\n",
        "# print(my_tuple) NameError: name 'my_tuple' is not defined"
      ],
      "metadata": {
        "id": "4A7tS5bMvu_g"
      },
      "execution_count": null,
      "outputs": []
    },
    {
      "cell_type": "markdown",
      "source": [
        "## Ejercicios con tuplas"
      ],
      "metadata": {
        "id": "D4WxDcpVr2Es"
      }
    },
    {
      "cell_type": "markdown",
      "source": [
        "1. Suma de elementos: Escribe un programa que sume todos los elementos de una tupla de números enteros.\n",
        "\n",
        "2. Mayor y menor: Escribe un programa que encuentre el elemento más grande y el elemento más pequeño en una tupla de números.\n",
        "\n",
        "3. Multiplicación de elementos: Escribe un programa que multiplique todos los elementos de una tupla de números enteros.\n",
        "\n",
        "4. Inversión de tupla: Escribe un programa que invierta el orden de los elementos en una tupla.\n",
        "\n",
        "5. Conteo de ocurrencias: Escribe un programa que cuente cuántas veces aparece un elemento específico en una tupla.\n",
        "\n",
        "6. Combinación de tuplas: Escribe un programa que combine dos tuplas dadas en una sola tupla.\n",
        "\n",
        "7. Extracción de elementos pares: Escribe un programa que cree una nueva tupla con solo los elementos pares de una tupla dada.\n",
        "\n",
        "8. Unión de conjuntos: Escribe un programa que tome dos tuplas y genere una nueva tupla que contenga todos los elementos únicos de ambas tuplas.\n",
        "\n",
        "9. Ordenar tupla de tuplas: Escribe un programa que ordene una tupla de tuplas por el segundo elemento de cada tupla.\n",
        "\n",
        "10. Rotación de tupla: Escribe un programa que rote los elementos de una tupla hacia la izquierda o hacia la derecha según el número de posiciones especificado."
      ],
      "metadata": {
        "id": "kHWUFqANsHuK"
      }
    },
    {
      "cell_type": "code",
      "source": [],
      "metadata": {
        "id": "Qdvg5m61r5Ba"
      },
      "execution_count": null,
      "outputs": []
    },
    {
      "cell_type": "markdown",
      "source": [
        "##Conjuntos (sets)"
      ],
      "metadata": {
        "id": "eIo6VbFsvyS-"
      }
    },
    {
      "cell_type": "markdown",
      "source": [
        "En Python, un conjunto (set) es una colección desordenada de elementos.\n",
        "\n",
        " Los conjuntos en Python admiten una variedad de operaciones útiles, como unión (union()), intersección (intersection()), diferencia (difference()), diferencia simétrica (symmetric_difference()), comprobación de pertenencia (in), etc."
      ],
      "metadata": {
        "id": "DAbadYutMDBN"
      }
    },
    {
      "cell_type": "code",
      "source": [
        "\n",
        "### Sets ###\n",
        "\n",
        "# Definición\n",
        "\n",
        "my_set = set()\n",
        "my_other_set = {}\n",
        "\n",
        "print(type(my_set))\n",
        "print(type(my_other_set))  # Inicialmente es un diccionario\n",
        "\n",
        "my_other_set = {\"Brais\", \"Moure\", 35}\n",
        "print(type(my_other_set))\n",
        "\n",
        "print(len(my_other_set))\n",
        "\n",
        "# Inserción\n",
        "\n",
        "my_other_set.add(\"MoureDev\")\n",
        "\n",
        "print(my_other_set)  # Un set no es una estructura ordenada\n",
        "\n",
        "my_other_set.add(\"MoureDev\")  # Un set no admite repetidos\n",
        "\n",
        "print(my_other_set)\n",
        "\n",
        "# Búsqueda\n",
        "\n",
        "print(\"Moure\" in my_other_set)\n",
        "print(\"Mouri\" in my_other_set)\n",
        "\n",
        "# Eliminación\n",
        "\n",
        "my_other_set.remove(\"Moure\")\n",
        "print(my_other_set)\n",
        "\n",
        "my_other_set.clear()\n",
        "print(len(my_other_set))\n",
        "\n",
        "del my_other_set\n",
        "# print(my_other_set) NameError: name 'my_other_set' is not defined\n",
        "\n",
        "# Transformación\n",
        "\n",
        "my_set = {\"Brais\", \"Moure\", 35}\n",
        "my_list = list(my_set)\n",
        "print(my_list)\n",
        "print(my_list[0])\n",
        "\n",
        "my_other_set = {\"Kotlin\", \"Swift\", \"Python\"}\n",
        "\n",
        "# Otras operaciones\n",
        "\n",
        "my_new_set = my_set.union(my_other_set)\n",
        "print(my_new_set.union(my_new_set).union(my_set).union({\"JavaScript\", \"C#\"}))\n",
        "print(my_new_set.difference(my_set))"
      ],
      "metadata": {
        "id": "JlMmD63EwEh3"
      },
      "execution_count": null,
      "outputs": []
    },
    {
      "cell_type": "markdown",
      "source": [
        "## Ejercicios con conjuntos"
      ],
      "metadata": {
        "id": "2C_CzYkaNMJ6"
      }
    },
    {
      "cell_type": "markdown",
      "source": [
        "1. Trata de hacer conjuntos que contengan listas y otros conjuntos.\n",
        "2. Eliminación de duplicados: Escribe un programa que tome una lista de números como entrada y elimine los elementos duplicados, devolviendo un conjunto con los elementos únicos.\n",
        "\n",
        "3. Intersección de conjuntos: Escribe un programa que tome dos conjuntos como entrada y devuelva un conjunto que contenga los elementos que están presentes en ambos conjuntos.\n",
        "\n",
        "4. Unión de conjuntos: Escribe un programa que tome dos conjuntos como entrada y devuelva un conjunto que contenga todos los elementos que están presentes en al menos uno de los conjuntos.\n",
        "\n",
        "5. Diferencia de conjuntos: Escribe un programa que tome dos conjuntos como entrada y devuelva un conjunto que contenga los elementos que están presentes en el primer conjunto pero no en el segundo.\n",
        "\n",
        "6. Subconjunto: Escribe un programa que tome dos conjuntos como entrada y devuelva True si el primer conjunto es un subconjunto del segundo, y False en caso contrario.\n",
        "\n",
        "7. Superconjunto: Escribe un programa que tome dos conjuntos como entrada y devuelva True si el primer conjunto es un superconjunto del segundo, y False en caso contrario.\n",
        "\n",
        "8. Comprobación de disyunción: Escribe un programa que tome dos conjuntos como entrada y devuelva True si los conjuntos son disjuntos (es decir, no comparten ningún elemento en común), y False en caso contrario.\n",
        "\n",
        "9. Comprobación de vacío: Escribe un programa que tome un conjunto como entrada y devuelva True si el conjunto está vacío, y False en caso contrario.\n",
        "\n",
        "10. Eliminación de elementos: Escribe un programa que tome un conjunto y un elemento como entrada, y elimine el elemento del conjunto si está presente.\n",
        "\n",
        "11. Combinación de conjuntos: Escribe un programa que tome una lista de conjuntos como entrada y devuelva un solo conjunto que contenga la unión de todos los conjuntos en la lista.\n"
      ],
      "metadata": {
        "id": "zyNdFMDRNRRH"
      }
    },
    {
      "cell_type": "code",
      "source": [],
      "metadata": {
        "id": "ebi6gQNCONyh"
      },
      "execution_count": null,
      "outputs": []
    },
    {
      "cell_type": "markdown",
      "source": [
        "## Diccionarios"
      ],
      "metadata": {
        "id": "P_oLx4svwaJM"
      }
    },
    {
      "cell_type": "markdown",
      "source": [
        "En Python, un diccionario es una estructura de datos que te permite almacenar pares de clave-valor. Cada elemento del diccionario consiste en una clave única y su correspondiente valor"
      ],
      "metadata": {
        "id": "E7jI8HWgOq5f"
      }
    },
    {
      "cell_type": "markdown",
      "source": [
        "1. Claves únicas: Las claves en un diccionario deben ser únicas. Si intentas agregar una clave que ya está presente en el diccionario, el valor asociado con esa clave se actualizará con el nuevo valor.\n",
        "\n",
        "2. Valores asociados a claves: Los valores en un diccionario pueden ser de cualquier tipo de datos válido en Python, incluyendo números, cadenas, listas, tuplas, conjuntos, diccionarios, etc.\n",
        "\n",
        "3. Inmutabilidad de las claves: Las claves de un diccionario deben ser inmutables, lo que significa que no pueden ser modificadas una vez que se han añadido al diccionario. Esto significa que las claves pueden ser cadenas, números, tuplas, etc., pero no pueden ser listas o diccionarios.\n",
        "\n",
        "4. Agregar y eliminar elementos: Puedes agregar nuevos pares clave-valor a un diccionario mediante la asignación directa o el método update(). También puedes eliminar pares clave-valor utilizando el operador del o el método pop().\n",
        "\n",
        "5. Iteración sobre diccionarios: Puedes iterar sobre los elementos de un diccionario utilizando bucles for. Puedes iterar sobre las claves, los valores o ambos utilizando los métodos keys(), values() y items() respectivamente.\n",
        "\n"
      ],
      "metadata": {
        "id": "wUIy6NDnO-7H"
      }
    },
    {
      "cell_type": "code",
      "source": [
        "### Dictionaries ###\n",
        "\n",
        "# Definición\n",
        "\n",
        "my_dict = dict()\n",
        "my_other_dict = {}\n",
        "\n",
        "print(type(my_dict))\n",
        "print(type(my_other_dict))\n",
        "\n",
        "my_other_dict = {\"Nombre\": \"Brais\",\n",
        "                 \"Apellido\": \"Moure\", \"Edad\": 35, 1: \"Python\"}\n",
        "\n",
        "my_dict = {\n",
        "    \"Nombre\": \"Brais\",\n",
        "    \"Apellido\": \"Moure\",\n",
        "    \"Edad\": 35,\n",
        "    \"Lenguajes\": {\"Python\", \"Swift\", \"Kotlin\"},\n",
        "    1: 1.77\n",
        "}\n",
        "\n",
        "print(my_other_dict)\n",
        "print(my_dict)\n",
        "\n",
        "print(len(my_other_dict))\n",
        "print(len(my_dict))\n",
        "\n",
        "# Búsqueda\n",
        "\n",
        "print(my_dict[1])\n",
        "print(my_dict[\"Nombre\"])\n",
        "\n",
        "print(\"Moure\" in my_dict)\n",
        "print(\"Apellido\" in my_dict)\n",
        "\n",
        "# Inserción\n",
        "\n",
        "my_dict[\"Calle\"] = \"Calle MoureDev\"\n",
        "print(my_dict)\n",
        "\n",
        "# Actualización\n",
        "\n",
        "my_dict[\"Nombre\"] = \"Pedro\"\n",
        "print(my_dict[\"Nombre\"])\n",
        "\n",
        "# Eliminación\n",
        "\n",
        "del my_dict[\"Calle\"]\n",
        "print(my_dict)\n",
        "\n",
        "# Otras operaciones\n",
        "\n",
        "print(my_dict.items())\n",
        "print(my_dict.keys())\n",
        "print(my_dict.values())\n",
        "\n",
        "my_list = [\"Nombre\", 1, \"Piso\"]\n",
        "\n",
        "my_new_dict = dict.fromkeys((my_list))\n",
        "print(my_new_dict)\n",
        "my_new_dict = dict.fromkeys((\"Nombre\", 1, \"Piso\"))\n",
        "print((my_new_dict))\n",
        "my_new_dict = dict.fromkeys(my_dict)\n",
        "print((my_new_dict))\n",
        "my_new_dict = dict.fromkeys(my_dict, \"MoureDev\")\n",
        "print((my_new_dict))\n",
        "\n",
        "my_values = my_new_dict.values()\n",
        "print(type(my_values))\n",
        "\n",
        "print(my_new_dict.values())\n",
        "print(list(dict.fromkeys(list(my_new_dict.values())).keys()))\n",
        "print(tuple(my_new_dict))\n",
        "print(set(my_new_dict))"
      ],
      "metadata": {
        "id": "_mVRZarNwU6Z"
      },
      "execution_count": null,
      "outputs": []
    },
    {
      "cell_type": "markdown",
      "source": [
        "1. Trata crear diccionarios que tengan como llaves listas y tuplas\n",
        "\n",
        "2. Conteo de caracteres: Escribe un programa que tome una cadena como entrada y devuelva un diccionario que cuente la cantidad de veces que aparece cada carácter en la cadena.\n",
        "\n",
        "3. Calculadora de promedios: Escribe un programa que tome un diccionario donde las claves son nombres de estudiantes y los valores son listas de calificaciones, y devuelva un nuevo diccionario donde las claves son los nombres de los estudiantes y los valores son los promedios de sus calificaciones.\n",
        "\n",
        "4. Fusionar diccionarios: Escribe un programa que tome dos diccionarios como entrada y devuelva un diccionario que contenga las claves y los valores de ambos diccionarios combinados.\n",
        "\n",
        "5. Eliminar claves específicas: Escribe un programa que tome un diccionario y una lista de claves como entrada, y devuelva un nuevo diccionario que contenga solo las claves que no están en la lista dada.\n",
        "\n",
        "6. Duplicar valores: Escribe un programa que tome un diccionario y devuelva un nuevo diccionario donde los valores del diccionario original se dupliquen.\n",
        "\n",
        "7. Conteo de palabras: Escribe un programa que tome una lista de palabras como entrada y devuelva un diccionario que cuente la cantidad de veces que aparece cada palabra en la lista.\n",
        "\n",
        "8. Ordenar diccionario por valor: Escribe un programa que tome un diccionario y devuelva un nuevo diccionario donde las claves estén ordenadas por sus valores en orden ascendente.\n",
        "\n",
        "9. Buscar clave por valor: Escribe un programa que tome un diccionario y un valor como entrada, y devuelva la clave correspondiente al valor dado.\n",
        "\n",
        "10. Combinar valores de diccionarios: Escribe un programa que tome una lista de diccionarios como entrada y devuelva un nuevo diccionario donde las claves sean las claves de los diccionarios originales y los valores sean listas que contengan todos los valores correspondientes para cada clave."
      ],
      "metadata": {
        "id": "1-M9whgmPVk9"
      }
    },
    {
      "cell_type": "code",
      "source": [],
      "metadata": {
        "id": "f_-q9mofPUoV"
      },
      "execution_count": null,
      "outputs": []
    },
    {
      "cell_type": "markdown",
      "source": [
        "## Condicionales"
      ],
      "metadata": {
        "id": "ErOL5aApwyt4"
      }
    },
    {
      "cell_type": "markdown",
      "source": [
        " Los condicionales en Python son estructuras de control que te permiten ejecutar cierto código dependiendo de si una condición dada es verdadera o falsa. Los condicionales en Python se definen mediante la palabra clave if, seguida de una expresión booleana que evalúa la condición.\n",
        "\n",
        "  - Puedes usar la declaración else para ejecutar un bloque de código alternativo si la condición en el if es falsa.\n",
        "\n",
        "  - Puedes usar múltiples declaraciones elif (abreviatura de \"else if\") para evaluar múltiples condiciones en secuencia. El bloque de código dentro del primer elif que tenga una condición verdadera se ejecutará, y si ninguna condición es verdadera, se ejecutará el bloque de código dentro del else.\n",
        "\n",
        "Puedes utilizar una variedad de **operadores de comparación** en las condiciones, como == (igual), != (no igual), < (menor que), > (mayor que), <= (menor o igual que), >= (mayor o igual que), etc.\n",
        "\n",
        "**Operadores lógicos:** Puedes combinar múltiples condiciones utilizando operadores lógicos como and, or y not. Esto te permite construir condiciones más complejas"
      ],
      "metadata": {
        "id": "pyPdaPAJRNnj"
      }
    },
    {
      "cell_type": "code",
      "source": [
        "### Conditionals ###\n",
        "\n",
        "# if\n",
        "\n",
        "my_condition = False\n",
        "\n",
        "if my_condition:  # Es lo mismo que if my_condition == True:\n",
        "    print(\"Se ejecuta la condición del if\")\n",
        "\n",
        "my_condition = 5 * 5\n",
        "\n",
        "if my_condition == 10:\n",
        "    print(\"Se ejecuta la condición del segundo if\")\n",
        "\n",
        "# if, elif, else\n",
        "\n",
        "if my_condition > 10 and my_condition < 20:\n",
        "    print(\"Es mayor que 10 y menor que 20\")\n",
        "elif my_condition == 25:\n",
        "    print(\"Es igual a 25\")\n",
        "else:\n",
        "    print(\"Es menor o igual que 10 o mayor o igual que 20 o distinto de 25\")\n",
        "\n",
        "print(\"La ejecución continúa\")\n",
        "\n",
        "# Condicional con ispección de valor\n",
        "\n",
        "my_string = \"\"\n",
        "\n",
        "if not my_string:\n",
        "    print(\"Mi cadena de texto es vacía\")\n",
        "\n",
        "if my_string == \"Mi cadena de textoooooo\":\n",
        "    print(\"Estas cadenas de texto coinciden\")"
      ],
      "metadata": {
        "id": "1UxQ9eDJwoqI"
      },
      "execution_count": null,
      "outputs": []
    },
    {
      "cell_type": "markdown",
      "source": [
        "## Ejercicios de conficionales"
      ],
      "metadata": {
        "id": "k9LdUkSTR3L4"
      }
    },
    {
      "cell_type": "markdown",
      "source": [
        "1. Calculadora de índice de masa corporal (IMC):\n",
        "Escribe un programa que tome la altura (en metros) y el peso (en kilogramos) de una persona como entrada y calcule su índice de masa corporal (IMC). Luego, el programa debe imprimir un mensaje que indique si la persona tiene peso bajo, peso normal, sobrepeso u obesidad, según el IMC calculado.\n",
        "\n",
        "2. Verificación de número par o impar:\n",
        "Escribe un programa que tome un número como entrada y determine si es par o impar. El programa debe imprimir un mensaje que indique si el número es par o impar.\n",
        "\n",
        "3. Cálculo de descuento de compra:\n",
        "Escribe un programa que tome el monto total de una compra como entrada y determine si el cliente es elegible para un descuento. Si el monto total de la compra es igual o superior a $100, el cliente recibe un descuento del 10%. El programa debe imprimir el monto total de la compra con el descuento aplicado, si corresponde.\n",
        "\n",
        "4. Conversor de unidades de temperatura:\n",
        "Escribe un programa que tome una temperatura en grados Celsius como entrada y la convierta a grados Fahrenheit. El programa debe imprimir la temperatura en grados Fahrenheit. Además, si la temperatura en grados Fahrenheit es mayor o igual a 100, el programa debe imprimir un mensaje que indique que hace calor.\n",
        "\n",
        "5. Clasificación de triángulos:\n",
        "Escribe un programa que tome tres longitudes como entrada y determine si forman un triángulo equilátero, isósceles o escaleno. El programa debe imprimir un mensaje que indique la clasificación del triángulo."
      ],
      "metadata": {
        "id": "xsPqdNrvSLbW"
      }
    },
    {
      "cell_type": "code",
      "source": [],
      "metadata": {
        "id": "Y9XbfCoCSc9x"
      },
      "execution_count": null,
      "outputs": []
    },
    {
      "cell_type": "markdown",
      "source": [
        "## Ciclos"
      ],
      "metadata": {
        "id": "zOn3gr9yxPvB"
      }
    },
    {
      "cell_type": "markdown",
      "source": [
        "En Python, los ciclos son estructuras de control que te permiten ejecutar un bloque de código repetidamente hasta que se cumpla una condición específica. Python ofrece dos tipos principales de ciclos: el ciclo for y el ciclo while. Aquí tienes una explicación detallada sobre ambos:\n",
        "\n",
        "**Ciclo for:**\n",
        "\n",
        "El ciclo for se utiliza para iterar sobre una secuencia de elementos, como una lista, una tupla, un conjunto o una cadena. La sintaxis básica del ciclo for es la siguiente:\n",
        "\n",
        "\n",
        "\n",
        "```\n",
        "for elemento in secuencia:\n",
        "    # Bloque de código a repetir\n",
        "\n",
        "```\n",
        "**elemento** es una variable que toma cada elemento de la secuencia en cada iteración.\n",
        "\n",
        "**secuencia** es la secuencia de elementos sobre la que se está iterando.\n",
        "\n",
        "```\n",
        "frutas = [\"manzana\", \"banana\", \"cereza\"]\n",
        "for fruta in frutas:\n",
        "    print(fruta)```\n"
      ],
      "metadata": {
        "id": "rdDvoTRuSiEs"
      }
    },
    {
      "cell_type": "markdown",
      "source": [
        "**Ciclo while:**\n",
        "\n",
        "El ciclo while se utiliza para ejecutar un bloque de código repetidamente mientras una condición específica sea verdadera. La sintaxis básica del ciclo while es la siguiente:\n",
        "```\n",
        "while condicion:\n",
        "    # Bloque de código a repetir\n",
        "```\n",
        "\n",
        "**condicion** es una expresión booleana que se evalúa en cada iteración. Si la condición es verdadera, el ciclo continúa; si es falsa, el ciclo se detiene.\n",
        "\n",
        "```\n",
        "i = 0\n",
        "while i < 5:\n",
        "    print(i)\n",
        "    i += 1\n",
        "```\n",
        "\n",
        "\n"
      ],
      "metadata": {
        "id": "gbexUErYTemz"
      }
    },
    {
      "cell_type": "markdown",
      "source": [
        "**Control de flujo:**\n",
        "\n",
        "Dentro de los ciclos, puedes utilizar declaraciones como break y continue para controlar el flujo de ejecución del ciclo:\n",
        "\n",
        "**break:** Termina el ciclo actualmente en ejecución y continúa con la siguiente instrucción después del ciclo.\n",
        "\n",
        "**continue:** Salta a la siguiente iteración del ciclo, omitiendo cualquier código restante en el bloque del ciclo."
      ],
      "metadata": {
        "id": "JEEaingGUVXB"
      }
    },
    {
      "cell_type": "code",
      "source": [
        "\n",
        "### Loops ###\n",
        "\n",
        "# While\n",
        "\n",
        "my_condition = 0\n",
        "\n",
        "while my_condition < 10:\n",
        "    print(my_condition)\n",
        "    my_condition += 2\n",
        "else:  # Es opcional\n",
        "    print(\"Mi condición es mayor o igual que 10\")\n",
        "\n",
        "print(\"La ejecución continúa\")\n",
        "\n",
        "while my_condition < 20:\n",
        "    my_condition += 1\n",
        "    if my_condition == 15:\n",
        "        print(\"Se detiene la ejecución\")\n",
        "        break\n",
        "    print(my_condition)\n",
        "\n",
        "print(\"La ejecución continúa\")\n",
        "\n",
        "# For\n",
        "\n",
        "my_list = [35, 24, 62, 52, 30, 30, 17]\n",
        "\n",
        "for element in my_list:\n",
        "    print(element)\n",
        "\n",
        "my_tuple = (35, 1.77, \"Brais\", \"Moure\", \"Brais\")\n",
        "\n",
        "for element in my_tuple:\n",
        "    print(element)\n",
        "\n",
        "my_set = {\"Brais\", \"Moure\", 35}\n",
        "\n",
        "for element in my_set:\n",
        "    print(element)\n",
        "\n",
        "my_dict = {\"Nombre\": \"Brais\", \"Apellido\": \"Moure\", \"Edad\": 35, 1: \"Python\"}\n",
        "\n",
        "for element in my_dict:\n",
        "    print(element)\n",
        "    if element == \"Edad\":\n",
        "        break\n",
        "else:\n",
        "    print(\"El bluce for para diccionario ha finalizado\")\n",
        "\n",
        "print(\"La ejecución continúa\")\n",
        "\n",
        "for element in my_dict:\n",
        "    print(element)\n",
        "    if element == \"Edad\":\n",
        "        continue\n",
        "    print(\"Se ejecuta\")\n",
        "else:\n",
        "    print(\"El bluce for para diccionario ha finalizado\")"
      ],
      "metadata": {
        "id": "6WcNlgkFxANW"
      },
      "execution_count": null,
      "outputs": []
    },
    {
      "cell_type": "markdown",
      "source": [
        "En Python, range() es una función incorporada que se utiliza para generar una secuencia de números enteros. Se utiliza comúnmente junto con ciclos for para iterar sobre una secuencia de valores numéricos.\n",
        "\n",
        "La sintaxis básica de la función range() es la siguiente:\n",
        "\n",
        "\n",
        "\n",
        "```\n",
        "# range(inicio, fin, paso)\n",
        "```\n",
        "\n",
        "Donde:\n",
        "\n",
        "**inicio** es el número inicial de la secuencia (por defecto es 0 si no se especifica).\n",
        "\n",
        "**fin** es el número final de la secuencia (exclusivo, es decir, la secuencia no incluirá este valor).\n",
        "\n",
        "**paso** es el tamaño del incremento entre cada número en la secuencia (por defecto es 1 si no se especifica).\n",
        "\n",
        "Es importante destacar que range() no devuelve una lista, sino un objeto de tipo range. Sin embargo, es iterable, lo que significa que puedes utilizarlo en un bucle for para recorrer la secuencia de valores que genera.\n",
        "\n",
        "Por ejemplo:\n",
        "\n"
      ],
      "metadata": {
        "id": "GKmhy813eYr1"
      }
    },
    {
      "cell_type": "code",
      "source": [
        "for i in range(4):\n",
        "  print(i)"
      ],
      "metadata": {
        "id": "UjY7CDsf2Chk"
      },
      "execution_count": null,
      "outputs": []
    },
    {
      "cell_type": "code",
      "source": [
        "for i in range(1, 10, 2):\n",
        "    print(i)"
      ],
      "metadata": {
        "id": "JYOr-wUvfOaw"
      },
      "execution_count": null,
      "outputs": []
    },
    {
      "cell_type": "markdown",
      "source": [
        "## Ejercicios de ciclos"
      ],
      "metadata": {
        "id": "x-7DjwwHUvDG"
      }
    },
    {
      "cell_type": "markdown",
      "source": [
        "1. Suma de números pares:\n",
        "Escribe un programa que calcule la suma de todos los números pares del 1 al 100 e imprima el resultado.\n",
        "\n",
        "2. Tabla de multiplicar:\n",
        "Escribe un programa que tome un número como entrada y genere la tabla de multiplicar de ese número del 1 al 10. Imprime cada multiplicación en una línea separada.\n",
        "\n",
        "3. Factorial de un número:\n",
        "Escribe un programa que tome un número como entrada y calcule su factorial. El factorial de un número entero positivo n se define como el producto de todos los números enteros positivos desde 1 hasta n. Imprime el resultado.\n",
        "\n",
        "4. Contador de vocales:\n",
        "Escribe un programa que tome una cadena como entrada y cuente el número de vocales (a, e, i, o, u) en la cadena. Imprime el número total de vocales.\n",
        "\n",
        "5. Suma de números primos:\n",
        "Escribe un programa que calcule la suma de todos los números primos del 1 al 100 e imprima el resultado.\n",
        "\n",
        "6. Serie fibonacci.\n",
        "Escribe un programa que imprima los 10 primeros numeros de la serie fibonacci"
      ],
      "metadata": {
        "id": "MnmS_H4QUmL7"
      }
    },
    {
      "cell_type": "markdown",
      "source": [
        "## Funciones"
      ],
      "metadata": {
        "id": "QVNrySu5xqjt"
      }
    },
    {
      "cell_type": "markdown",
      "source": [
        "En Python, una función es un bloque de código reutilizable que realiza una tarea específica cuando es llamado. Las funciones permiten organizar y modularizar el código, lo que hace que sea más fácil de entender, mantener y depurar.\n",
        "\n",
        "**Definición de una función:**\n",
        "\n",
        "Para definir una función en Python, utilizamos la palabra clave def, seguida del nombre de la función y una lista de parámetros entre paréntesis. La sintaxis básica es la siguiente:\n",
        "\n",
        "\n",
        "\n",
        "```\n",
        "def nombre_de_la_funcion(parametro1, parametro2, ...):\n",
        "    # Bloque de código de la función\n",
        "```\n",
        "\n",
        "**nombre_de_la_funcion:** Es el nombre que le das a tu función. Debe seguir las mismas reglas de nombrado que las variables.\n",
        "\n",
        "**parametro1, parametro2, ...:** Son los parámetros (o argumentos) que puede recibir la función. Estos son opcionales y pueden ser utilizados para pasar datos a la función.\n",
        "\n",
        "**Llamada a una función:**\n",
        "\n",
        "Para llamar a una función y ejecutar su código, simplemente escribimos el nombre de la función seguido de paréntesis y, opcionalmente, los valores de los parámetros si la función los tiene. Por ejemplo:\n",
        "\n",
        "\n",
        "\n",
        "```\n",
        "nombre_de_la_funcion(valor1, valor2)\n",
        "\n",
        "```\n",
        "\n",
        "**Valor de retorno:**\n",
        "\n",
        "Una función puede devolver un valor utilizando la palabra clave return. Cuando se encuentra una declaración return en una función, la ejecución de la función se detiene y el valor especificado después de return se devuelve al lugar donde se llamó a la función. Por ejemplo:\n",
        "\n",
        "\n",
        "\n",
        "```\n",
        "def suma(a, b):\n",
        "    return a + b\n",
        "\n",
        "resultado = suma(3, 4)\n",
        "print(resultado)  # Output: 7\n",
        "```\n",
        "\n",
        "En este ejemplo, la función suma toma dos argumentos a y b, los suma y devuelve el resultado.\n",
        "\n",
        "**Documentación de funciones:**\n",
        "\n",
        "Es una buena práctica incluir documentación en tus funciones para explicar lo que hacen y cómo deben ser utilizadas. Puedes agregar comentarios justo después de la definición de la función utilizando tres comillas dobles (\"\"\"). Por ejemplo:\n",
        "\n",
        "```\n",
        "def suma(a, b):\n",
        "    \"\"\"\n",
        "    Esta función toma dos números como entrada y devuelve su suma.\n",
        "    \"\"\"\n",
        "    return a + b\n",
        "```\n",
        "\n",
        "\n"
      ],
      "metadata": {
        "id": "JpLVVn4ZWKkf"
      }
    },
    {
      "cell_type": "code",
      "source": [
        "def saludar(nombre):\n",
        "    \"\"\"\n",
        "    Esta función toma un nombre como parámetro y devuelve un saludo personalizado.\n",
        "    \"\"\"\n",
        "    return \"¡Hola, \" + nombre + \"!\"\n",
        "\n",
        "# Llamada a la función\n",
        "mensaje = saludar(\"Juan\")\n",
        "print(mensaje)  # Output: ¡Hola, Juan!\n",
        "\"\"\"Documentación de la función\"\"\"\n",
        "saludar.__doc__"
      ],
      "metadata": {
        "id": "wEpvq-TQY2-c"
      },
      "execution_count": null,
      "outputs": []
    },
    {
      "cell_type": "code",
      "source": [
        "\n",
        "### Functions ###\n",
        "\n",
        "# Definición\n",
        "\n",
        "def my_function():\n",
        "    print(\"Esto es una función\")\n",
        "\n",
        "\n",
        "my_function()\n",
        "my_function()\n",
        "my_function()\n",
        "\n",
        "# Función con parámetros de entrada/argumentos\n",
        "\n",
        "\n",
        "def sum_two_values(first_value: int, second_value):\n",
        "    print(first_value + second_value)\n",
        "\n",
        "\n",
        "sum_two_values(5, 7)\n",
        "sum_two_values(54754, 71231)\n",
        "sum_two_values(\"5\", \"7\")\n",
        "sum_two_values(1.4, 5.2)\n",
        "\n",
        "# Función con parámetros de entrada/argumentos y retorno\n",
        "\n",
        "\n",
        "def sum_two_values_with_return(first_value, second_value):\n",
        "    my_sum = first_value + second_value\n",
        "    return my_sum\n",
        "\n",
        "\n",
        "my_result = sum_two_values(1.4, 5.2)\n",
        "print(my_result)\n",
        "\n",
        "my_result = sum_two_values_with_return(10, 5)\n",
        "print(my_result)\n",
        "\n",
        "# Función con parámetros de entrada/argumentos por clave\n",
        "\n",
        "\n",
        "def print_name(name, surname):\n",
        "    print(f\"{name} {surname}\")\n",
        "\n",
        "\n",
        "print_name(surname=\"Moure\", name=\"Brais\")\n",
        "\n",
        "# Función con parámetros de entrada/argumentos por defecto\n",
        "\n",
        "\n",
        "def print_name_with_default(name, surname, alias=\"Sin alias\"):\n",
        "    print(f\"{name} {surname} {alias}\")\n",
        "\n",
        "\n",
        "print_name_with_default(\"Brais\", \"Moure\")\n",
        "print_name_with_default(\"Brais\", \"Moure\", \"MoureDev\")\n",
        "\n",
        "# Función con parámetros de entrada/argumentos arbitrarios\n",
        "\n",
        "\n",
        "def print_upper_texts(*texts):\n",
        "    print(type(texts))\n",
        "    for text in texts:\n",
        "        print(text.upper())\n",
        "\n",
        "\n",
        "print_upper_texts(\"Hola\", \"Python\", \"MoureDev\")\n",
        "print_upper_texts(\"Hola\")"
      ],
      "metadata": {
        "id": "eoZJTTyUxtbF"
      },
      "execution_count": null,
      "outputs": []
    },
    {
      "cell_type": "markdown",
      "source": [
        "## Ejercicios con funciones"
      ],
      "metadata": {
        "id": "vrbLAQLJZmBJ"
      }
    },
    {
      "cell_type": "markdown",
      "source": [
        "1. Cálculo de la raíz cuadrada sin usar el operador sqrt:\n",
        "Escribe una función llamada raiz_cuadrada que tome un número positivo como entrada y calcule su raíz cuadrada sin utilizar el operador sqrt.\n",
        "\n",
        "2. Generador de contraseñas seguras:\n",
        "Escribe una función llamada generar_contraseña que genere una contraseña segura de una longitud específica. La contraseña debe contener una combinación de letras minúsculas, letras mayúsculas, dígitos y caracteres especiales. Puedes usar la biblioteca random para generar caracteres aleatorios.\n",
        "\n",
        "3. Criba de Eratóstenes:\n",
        "Implementa una función llamada criba_eratostenes que tome un número entero n como entrada y devuelva una lista de todos los números primos menores o iguales a n. Utiliza el algoritmo de la criba de Eratóstenes para generar los números primos.\n",
        "\n",
        "4. Validador de palíndromos:\n",
        "Escribe una función llamada es_palindromo que tome una cadena como entrada y determine si es un palíndromo (es decir, si se lee igual de adelante hacia atrás que de atrás hacia adelante). Ignora los espacios en blanco, mayúsculas y minúsculas, y los signos de puntuación.\n",
        "\n",
        "5. Calculadora de expresiones matemáticas:\n",
        "Crea una función llamada calcular_expresion que tome una cadena como entrada que represente una expresión matemática válida y devuelva el resultado de evaluar la expresión. Puedes utilizar la función eval() para evaluar la cadena como una expresión de Python."
      ],
      "metadata": {
        "id": "h6CC-k3xarFs"
      }
    },
    {
      "cell_type": "code",
      "source": [],
      "metadata": {
        "id": "XcFdh4dka3Ty"
      },
      "execution_count": null,
      "outputs": []
    }
  ]
}